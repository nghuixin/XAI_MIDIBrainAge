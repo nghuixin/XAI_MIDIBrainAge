{
 "cells": [
  {
   "cell_type": "code",
   "execution_count": 1,
   "metadata": {},
   "outputs": [],
   "source": [
    "#INDICES e[4,8,10,17,38,53,68,81,83,87,91] \n",
    "import pandas as pd\n",
    "from sklearn.model_selection import train_test_split\n",
    "from sklearn.tree import DecisionTreeRegressor\n",
    "from sklearn.ensemble import RandomForestRegressor\n",
    "from sklearn.metrics import mean_squared_error, r2_score\n",
    "import matplotlib.pyplot as plt"
   ]
  },
  {
   "cell_type": "code",
   "execution_count": 2,
   "metadata": {},
   "outputs": [],
   "source": [
    "excel_file = \"reducedata_bd1011.xlsx\"  # Replace with the path to your Excel file\n",
    "data = pd.read_excel(excel_file, engine=\"openpyxl\")  # Make sure you have 'openpyxl' installed\n",
    "y = data.iloc[1:, 4]  # Target (output)\n",
    "\n",
    "excel_file = \"reducedata_hc1011.xlsx\"  \n",
    "dat = pd.read_excel(excel_file, engine=\"openpyxl\")  \n",
    "y1 = dat.iloc[1:, 4]  # Target (output)"
   ]
  },
  {
   "cell_type": "code",
   "execution_count": 3,
   "metadata": {},
   "outputs": [],
   "source": [
    "mseHC = []\n",
    "r2HC = []\n",
    "mseBD = []\n",
    "r2BD = []"
   ]
  },
  {
   "cell_type": "code",
   "execution_count": 4,
   "metadata": {},
   "outputs": [
    {
     "name": "stdout",
     "output_type": "stream",
     "text": [
      "Mean Squared Error (MSE): 93.72005435669998\n",
      "R-squared (R²) Score: -0.032829635803134805\n",
      "Mean Squared Error (MSE): 257.10101155413247\n",
      "R-squared (R²) Score: -0.3766579387736626\n"
     ]
    }
   ],
   "source": [
    "\n",
    "X = data.iloc[1:, 5:8]  # Features (inputs)\n",
    "XX = dat.iloc[1:, 5:8]  # Features (inputs)\n",
    "X_train, X_test, y_train, y_test = train_test_split(X, y, test_size=0.1, random_state=42)\n",
    "model = DecisionTreeRegressor(random_state=42)\n",
    "model.fit(X_train, y_train)\n",
    "y_pred = model.predict(X_test)\n",
    "mse = mean_squared_error(y_test, y_pred)\n",
    "r2 = r2_score(y_test, y_pred)\n",
    "\n",
    "print(f\"Mean Squared Error (MSE): {mse}\")\n",
    "print(f\"R-squared (R²) Score: {r2}\")\n",
    "mseHC.append(mse)\n",
    "r2HC.append(r2)\n",
    "\n",
    "y_pred = model.predict(XX)\n",
    "mse = mean_squared_error(y1, y_pred)\n",
    "r2 = r2_score(y1, y_pred)\n",
    "\n",
    "print(f\"Mean Squared Error (MSE): {mse}\")\n",
    "print(f\"R-squared (R²) Score: {r2}\")\n",
    "mseBD.append(mse)\n",
    "r2BD.append(r2)"
   ]
  },
  {
   "cell_type": "code",
   "execution_count": 5,
   "metadata": {},
   "outputs": [
    {
     "name": "stdout",
     "output_type": "stream",
     "text": [
      "Mean Squared Error (MSE): 313.97219555438016\n",
      "R-squared (R²) Score: -2.4600896319642236\n",
      "Mean Squared Error (MSE): 294.2194521837059\n",
      "R-squared (R²) Score: -0.5754101554946855\n"
     ]
    }
   ],
   "source": [
    "X = data.iloc[1:, 9:10]  # Features (inputs)\n",
    "XX = dat.iloc[1:, 9:10]  # Features (inputs)\n",
    "X_train, X_test, y_train, y_test = train_test_split(X, y, test_size=0.1, random_state=42)\n",
    "model = DecisionTreeRegressor(random_state=42)\n",
    "model.fit(X_train, y_train)\n",
    "y_pred = model.predict(X_test)\n",
    "mse = mean_squared_error(y_test, y_pred)\n",
    "r2 = r2_score(y_test, y_pred)\n",
    "\n",
    "print(f\"Mean Squared Error (MSE): {mse}\")\n",
    "print(f\"R-squared (R²) Score: {r2}\")\n",
    "mseHC.append(mse)\n",
    "r2HC.append(r2)\n",
    "\n",
    "y_pred = model.predict(XX)\n",
    "mse = mean_squared_error(y1, y_pred)\n",
    "r2 = r2_score(y1, y_pred)\n",
    "\n",
    "print(f\"Mean Squared Error (MSE): {mse}\")\n",
    "print(f\"R-squared (R²) Score: {r2}\")\n",
    "mseBD.append(mse)\n",
    "r2BD.append(r2)"
   ]
  },
  {
   "cell_type": "code",
   "execution_count": 6,
   "metadata": {},
   "outputs": [
    {
     "name": "stdout",
     "output_type": "stream",
     "text": [
      "Mean Squared Error (MSE): 63.927922276320075\n",
      "R-squared (R²) Score: 0.2954906702144632\n",
      "Mean Squared Error (MSE): 334.3809749888675\n",
      "R-squared (R²) Score: -0.7904566808613276\n"
     ]
    }
   ],
   "source": [
    "X = data.iloc[1:,11:17]  # Features (inputs)\n",
    "XX = dat.iloc[1:,11:17]  # Features (inputs)\n",
    "X_train, X_test, y_train, y_test = train_test_split(X, y, test_size=0.1, random_state=42)\n",
    "model = DecisionTreeRegressor(random_state=42)\n",
    "model.fit(X_train, y_train)\n",
    "y_pred = model.predict(X_test)\n",
    "mse = mean_squared_error(y_test, y_pred)\n",
    "r2 = r2_score(y_test, y_pred)\n",
    "\n",
    "print(f\"Mean Squared Error (MSE): {mse}\")\n",
    "print(f\"R-squared (R²) Score: {r2}\")\n",
    "mseHC.append(mse)\n",
    "r2HC.append(r2)\n",
    "\n",
    "y_pred = model.predict(XX)\n",
    "mse = mean_squared_error(y1, y_pred)\n",
    "r2 = r2_score(y1, y_pred)\n",
    "\n",
    "print(f\"Mean Squared Error (MSE): {mse}\")\n",
    "print(f\"R-squared (R²) Score: {r2}\")\n",
    "mseBD.append(mse)\n",
    "r2BD.append(r2)"
   ]
  },
  {
   "cell_type": "code",
   "execution_count": 7,
   "metadata": {},
   "outputs": [
    {
     "name": "stdout",
     "output_type": "stream",
     "text": [
      "Mean Squared Error (MSE): 216.16602192110003\n",
      "R-squared (R²) Score: -1.3822294515967846\n",
      "Mean Squared Error (MSE): 355.70556063354496\n",
      "R-squared (R²) Score: -0.904640051597009\n"
     ]
    }
   ],
   "source": [
    "X = data.iloc[1:, 18:38]  # Features (inputs)\n",
    "XX = dat.iloc[1:, 18:38]  # Features (inputs)\n",
    "X_train, X_test, y_train, y_test = train_test_split(X, y, test_size=0.1, random_state=42)\n",
    "model = DecisionTreeRegressor(random_state=42)\n",
    "model.fit(X_train, y_train)\n",
    "y_pred = model.predict(X_test)\n",
    "mse = mean_squared_error(y_test, y_pred)\n",
    "r2 = r2_score(y_test, y_pred)\n",
    "\n",
    "print(f\"Mean Squared Error (MSE): {mse}\")\n",
    "print(f\"R-squared (R²) Score: {r2}\")\n",
    "mseHC.append(mse)\n",
    "r2HC.append(r2)\n",
    "\n",
    "y_pred = model.predict(XX)\n",
    "mse = mean_squared_error(y1, y_pred)\n",
    "r2 = r2_score(y1, y_pred)\n",
    "\n",
    "print(f\"Mean Squared Error (MSE): {mse}\")\n",
    "print(f\"R-squared (R²) Score: {r2}\")\n",
    "mseBD.append(mse)\n",
    "r2BD.append(r2)"
   ]
  },
  {
   "cell_type": "code",
   "execution_count": 10,
   "metadata": {},
   "outputs": [
    {
     "name": "stdout",
     "output_type": "stream",
     "text": [
      "Mean Squared Error (MSE): 171.55120919949988\n",
      "R-squared (R²) Score: -0.8905577267886013\n",
      "Mean Squared Error (MSE): 235.33997619738247\n",
      "R-squared (R²) Score: -0.260137580107175\n"
     ]
    }
   ],
   "source": [
    "X = data.iloc[1:, 39:53]  # Features (inputs)\n",
    "XX = dat.iloc[1:, 39:53]  # Features (inputs)\n",
    "\n",
    "X_train, X_test, y_train, y_test = train_test_split(X, y, test_size=0.1, random_state=42)\n",
    "model = DecisionTreeRegressor(random_state=42)\n",
    "model.fit(X_train, y_train)\n",
    "y_pred = model.predict(X_test)\n",
    "mse = mean_squared_error(y_test, y_pred)\n",
    "r2 = r2_score(y_test, y_pred)\n",
    "\n",
    "print(f\"Mean Squared Error (MSE): {mse}\")\n",
    "print(f\"R-squared (R²) Score: {r2}\")\n",
    "mseHC.append(mse)\n",
    "r2HC.append(r2)\n",
    "\n",
    "y_pred = model.predict(XX)\n",
    "mse = mean_squared_error(y1, y_pred)\n",
    "r2 = r2_score(y1, y_pred)\n",
    "\n",
    "print(f\"Mean Squared Error (MSE): {mse}\")\n",
    "print(f\"R-squared (R²) Score: {r2}\")\n",
    "mseBD.append(mse)\n",
    "r2BD.append(r2)"
   ]
  },
  {
   "cell_type": "code",
   "execution_count": 12,
   "metadata": {},
   "outputs": [
    {
     "name": "stdout",
     "output_type": "stream",
     "text": [
      "Mean Squared Error (MSE): 398.8897698432399\n",
      "R-squared (R²) Score: -3.3959126842241023\n",
      "Mean Squared Error (MSE): 429.87541117387246\n",
      "R-squared (R²) Score: -1.3017855662987254\n"
     ]
    }
   ],
   "source": [
    "X = data.iloc[1:, 54:68]  # Features (inputs)\n",
    "XX = dat.iloc[1:, 54:68]  # Features (inputs)\n",
    "\n",
    "X_train, X_test, y_train, y_test = train_test_split(X, y, test_size=0.1, random_state=42)\n",
    "model = DecisionTreeRegressor(random_state=42)\n",
    "model.fit(X_train, y_train)\n",
    "y_pred = model.predict(X_test)\n",
    "mse = mean_squared_error(y_test, y_pred)\n",
    "r2 = r2_score(y_test, y_pred)\n",
    "\n",
    "print(f\"Mean Squared Error (MSE): {mse}\")\n",
    "print(f\"R-squared (R²) Score: {r2}\")\n",
    "mseHC.append(mse)\n",
    "r2HC.append(r2)\n",
    "\n",
    "y_pred = model.predict(XX)\n",
    "mse = mean_squared_error(y1, y_pred)\n",
    "r2 = r2_score(y1, y_pred)\n",
    "\n",
    "print(f\"Mean Squared Error (MSE): {mse}\")\n",
    "print(f\"R-squared (R²) Score: {r2}\")\n",
    "mseBD.append(mse)\n",
    "r2BD.append(r2)"
   ]
  },
  {
   "cell_type": "code",
   "execution_count": 13,
   "metadata": {},
   "outputs": [
    {
     "name": "stdout",
     "output_type": "stream",
     "text": [
      "Mean Squared Error (MSE): 165.92482999096003\n",
      "R-squared (R²) Score: -0.8285529485291965\n",
      "Mean Squared Error (MSE): 227.14451639528124\n",
      "R-squared (R²) Score: -0.21625465358633722\n"
     ]
    }
   ],
   "source": [
    "X = data.iloc[1:, 69:81]  # Features (inputs)\n",
    "XX = dat.iloc[1:, 69:81]  # Features (inputs)\n",
    "\n",
    "X_train, X_test, y_train, y_test = train_test_split(X, y, test_size=0.1, random_state=42)\n",
    "model = DecisionTreeRegressor(random_state=42)\n",
    "model.fit(X_train, y_train)\n",
    "y_pred = model.predict(X_test)\n",
    "mse = mean_squared_error(y_test, y_pred)\n",
    "r2 = r2_score(y_test, y_pred)\n",
    "\n",
    "print(f\"Mean Squared Error (MSE): {mse}\")\n",
    "print(f\"R-squared (R²) Score: {r2}\")\n",
    "mseHC.append(mse)\n",
    "r2HC.append(r2)\n",
    "\n",
    "y_pred = model.predict(XX)\n",
    "mse = mean_squared_error(y1, y_pred)\n",
    "r2 = r2_score(y1, y_pred)\n",
    "\n",
    "print(f\"Mean Squared Error (MSE): {mse}\")\n",
    "print(f\"R-squared (R²) Score: {r2}\")\n",
    "mseBD.append(mse)\n",
    "r2BD.append(r2)"
   ]
  },
  {
   "cell_type": "code",
   "execution_count": 14,
   "metadata": {},
   "outputs": [
    {
     "name": "stdout",
     "output_type": "stream",
     "text": [
      "Mean Squared Error (MSE): 369.0441293639001\n",
      "R-squared (R²) Score: -3.067002695874483\n",
      "Mean Squared Error (MSE): 269.3805785347\n",
      "R-squared (R²) Score: -0.4424093851266533\n"
     ]
    }
   ],
   "source": [
    "X = data.iloc[1:, 82:83]  # Features (inputs)\n",
    "XX = dat.iloc[1:, 82:83]  # Features (inputs)\n",
    "\n",
    "X_train, X_test, y_train, y_test = train_test_split(X, y, test_size=0.1, random_state=42)\n",
    "model = DecisionTreeRegressor(random_state=42)\n",
    "model.fit(X_train, y_train)\n",
    "y_pred = model.predict(X_test)\n",
    "mse = mean_squared_error(y_test, y_pred)\n",
    "r2 = r2_score(y_test, y_pred)\n",
    "\n",
    "print(f\"Mean Squared Error (MSE): {mse}\")\n",
    "print(f\"R-squared (R²) Score: {r2}\")\n",
    "mseHC.append(mse)\n",
    "r2HC.append(r2)\n",
    "\n",
    "y_pred = model.predict(XX)\n",
    "mse = mean_squared_error(y1, y_pred)\n",
    "r2 = r2_score(y1, y_pred)\n",
    "\n",
    "print(f\"Mean Squared Error (MSE): {mse}\")\n",
    "print(f\"R-squared (R²) Score: {r2}\")\n",
    "mseBD.append(mse)\n",
    "r2BD.append(r2)"
   ]
  },
  {
   "cell_type": "code",
   "execution_count": 15,
   "metadata": {},
   "outputs": [
    {
     "name": "stdout",
     "output_type": "stream",
     "text": [
      "Mean Squared Error (MSE): 240.65813178261993\n",
      "R-squared (R²) Score: -1.6521415539953415\n",
      "Mean Squared Error (MSE): 378.1634797225437\n",
      "R-squared (R²) Score: -1.0248919028648023\n"
     ]
    }
   ],
   "source": [
    "X = data.iloc[1:, 84:87]  # Features (inputs)\n",
    "XX = dat.iloc[1:, 84:87]  # Features (inputs)\n",
    "X_train, X_test, y_train, y_test = train_test_split(X, y, test_size=0.1, random_state=42)\n",
    "model = DecisionTreeRegressor(random_state=42)\n",
    "model.fit(X_train, y_train)\n",
    "y_pred = model.predict(X_test)\n",
    "mse = mean_squared_error(y_test, y_pred)\n",
    "r2 = r2_score(y_test, y_pred)\n",
    "\n",
    "print(f\"Mean Squared Error (MSE): {mse}\")\n",
    "print(f\"R-squared (R²) Score: {r2}\")\n",
    "mseHC.append(mse)\n",
    "r2HC.append(r2)\n",
    "\n",
    "y_pred = model.predict(XX)\n",
    "mse = mean_squared_error(y1, y_pred)\n",
    "r2 = r2_score(y1, y_pred)\n",
    "\n",
    "print(f\"Mean Squared Error (MSE): {mse}\")\n",
    "print(f\"R-squared (R²) Score: {r2}\")\n",
    "mseBD.append(mse)\n",
    "r2BD.append(r2)"
   ]
  },
  {
   "cell_type": "code",
   "execution_count": 16,
   "metadata": {},
   "outputs": [
    {
     "name": "stdout",
     "output_type": "stream",
     "text": [
      "Mean Squared Error (MSE): 161.04057402830006\n",
      "R-squared (R²) Score: -0.7747266427111956\n",
      "Mean Squared Error (MSE): 393.79019169030875\n",
      "R-squared (R²) Score: -1.1085657746917268\n"
     ]
    }
   ],
   "source": [
    "X = data.iloc[1:, 87:91]  # Features (inputs)\n",
    "XX = dat.iloc[1:, 87:91]  # Features (inputs)\n",
    "X_train, X_test, y_train, y_test = train_test_split(X, y, test_size=0.1, random_state=42)\n",
    "model = DecisionTreeRegressor(random_state=42)\n",
    "model.fit(X_train, y_train)\n",
    "y_pred = model.predict(X_test)\n",
    "mse = mean_squared_error(y_test, y_pred)\n",
    "r2 = r2_score(y_test, y_pred)\n",
    "\n",
    "print(f\"Mean Squared Error (MSE): {mse}\")\n",
    "print(f\"R-squared (R²) Score: {r2}\")\n",
    "mseHC.append(mse)\n",
    "r2HC.append(r2)\n",
    "\n",
    "y_pred = model.predict(XX)\n",
    "mse = mean_squared_error(y1, y_pred)\n",
    "r2 = r2_score(y1, y_pred)\n",
    "\n",
    "print(f\"Mean Squared Error (MSE): {mse}\")\n",
    "print(f\"R-squared (R²) Score: {r2}\")\n",
    "mseBD.append(mse)\n",
    "r2BD.append(r2)"
   ]
  },
  {
   "cell_type": "code",
   "execution_count": 18,
   "metadata": {},
   "outputs": [
    {
     "data": {
      "image/png": "[encoded data removed]",
      "text/plain": [
       "<Figure size 432x288 with 1 Axes>"
      ]
     },
     "metadata": {
      "needs_background": "light"
     },
     "output_type": "display_data"
    },
    {
     "data": {
      "image/png": "[encoded data removed]",
      "text/plain": [
       "<Figure size 432x288 with 1 Axes>"
      ]
     },
     "metadata": {
      "needs_background": "light"
     },
     "output_type": "display_data"
    },
    {
     "data": {
      "image/png": "[encoded data removed]",
      "text/plain": [
       "<Figure size 432x288 with 1 Axes>"
      ]
     },
     "metadata": {
      "needs_background": "light"
     },
     "output_type": "display_data"
    },
    {
     "data": {
      "image/png": "[encoded data removed]",
      "text/plain": [
       "<Figure size 432x288 with 1 Axes>"
      ]
     },
     "metadata": {
      "needs_background": "light"
     },
     "output_type": "display_data"
    }
   ],
   "source": [
    "plt.plot(mseBD,label='Bipolar Depression')\n",
    "plt.plot(mseHC,label='Healthy Control')\n",
    "plt.title(\"Decision Tree Algorithm Mean Squared Error\")\n",
    "plt.ylabel(\"Mean Squared Error (MSE)\")\n",
    "plt.xlabel(\"Parameter\")\n",
    "plt.legend()\n",
    "plt.show()\n",
    "plt.plot(mseHC)\n",
    "plt.show()\n",
    "plt.plot(r2BD)\n",
    "plt.show()\n",
    "plt.plot(r2HC)\n",
    "plt.show()"
   ]
  }
 ],
 "metadata": {
  "kernelspec": {
   "display_name": "Python 3",
   "language": "python",
   "name": "python3"
  },
  "language_info": {
   "codemirror_mode": {
    "name": "ipython",
    "version": 3
   },
   "file_extension": ".py",
   "mimetype": "text/x-python",
   "name": "python",
   "nbconvert_exporter": "python",
   "pygments_lexer": "ipython3",
   "version": "3.8.3"
  }
 },
 "nbformat": 4,
 "nbformat_minor": 2
}
