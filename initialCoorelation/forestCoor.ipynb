{
 "cells": [
  {
   "cell_type": "code",
   "execution_count": 2,
   "metadata": {},
   "outputs": [],
   "source": [
    "#INDICES e[4,8,10,17,38,53,68,81,83,87,91] \n",
    "import pandas as pd\n",
    "from sklearn.model_selection import train_test_split\n",
    "from sklearn.tree import DecisionTreeRegressor\n",
    "from sklearn.ensemble import RandomForestRegressor\n",
    "from sklearn.metrics import mean_squared_error, r2_score\n",
    "import matplotlib.pyplot as plt"
   ]
  },
  {
   "cell_type": "markdown",
   "metadata": {},
   "source": []
  },
  {
   "cell_type": "code",
   "execution_count": 3,
   "metadata": {},
   "outputs": [],
   "source": [
    "excel_file = \"reducedata_bd1011.xlsx\"  # Replace with the path to your Excel file\n",
    "data = pd.read_excel(excel_file, engine=\"openpyxl\")  # Make sure you have 'openpyxl' installed\n",
    "y = data.iloc[1:, 4]  # Target (output)\n",
    "\n",
    "excel_file = \"reducedata_hc1011.xlsx\"  \n",
    "dat = pd.read_excel(excel_file, engine=\"openpyxl\")  \n",
    "y1 = dat.iloc[1:, 4]  # Target (output)"
   ]
  },
  {
   "cell_type": "code",
   "execution_count": 4,
   "metadata": {},
   "outputs": [
    {
     "name": "stdout",
     "output_type": "stream",
     "text": [
      "Mean Squared Error (MSE): 46.53713659855252\n",
      "R-squared (R²) Score: 0.4871435556207868\n",
      "Mean Squared Error (MSE): 228.56412181670976\n",
      "R-squared (R²) Score: -0.22385598919183414\n"
     ]
    }
   ],
   "source": [
    "X = data.iloc[1:, 5:8]  # Features (inputs)\n",
    "XX = dat.iloc[1:, 5:8]  # Features (inputs)\n",
    "X_train, X_test, y_train, y_test = train_test_split(X, y, test_size=0.1, random_state=42)\n",
    "model = RandomForestRegressor(n_estimators=8, random_state=42)  # You can adjust the number of estimators\n",
    "model.fit(X_train, y_train)\n",
    "y_pred = model.predict(X_test)\n",
    "mse = mean_squared_error(y_test, y_pred)\n",
    "r2 = r2_score(y_test, y_pred)\n",
    "\n",
    "print(f\"Mean Squared Error (MSE): {mse}\")\n",
    "print(f\"R-squared (R²) Score: {r2}\")\n",
    "\n",
    "y_pred = model.predict(XX)\n",
    "mse = mean_squared_error(y1, y_pred)\n",
    "r2 = r2_score(y1, y_pred)\n",
    "\n",
    "print(f\"Mean Squared Error (MSE): {mse}\")\n",
    "print(f\"R-squared (R²) Score: {r2}\")"
   ]
  },
  {
   "cell_type": "code",
   "execution_count": 5,
   "metadata": {},
   "outputs": [
    {
     "name": "stdout",
     "output_type": "stream",
     "text": [
      "Mean Squared Error (MSE): 223.57866580892158\n",
      "R-squared (R²) Score: -1.4639195267845158\n",
      "Mean Squared Error (MSE): 256.9808284560869\n",
      "R-squared (R²) Score: -0.3760144134330554\n"
     ]
    }
   ],
   "source": [
    "X = data.iloc[1:, 9:10]  # Features (inputs)\n",
    "XX = dat.iloc[1:, 9:10]  # Features (inputs)\n",
    "X_train, X_test, y_train, y_test = train_test_split(X, y, test_size=0.1, random_state=42)\n",
    "model = RandomForestRegressor(n_estimators=8, random_state=42)  # You can adjust the number of estimators\n",
    "model.fit(X_train, y_train)\n",
    "y_pred = model.predict(X_test)\n",
    "mse = mean_squared_error(y_test, y_pred)\n",
    "r2 = r2_score(y_test, y_pred)\n",
    "\n",
    "print(f\"Mean Squared Error (MSE): {mse}\")\n",
    "print(f\"R-squared (R²) Score: {r2}\")\n",
    "\n",
    "y_pred = model.predict(XX)\n",
    "mse = mean_squared_error(y1, y_pred)\n",
    "r2 = r2_score(y1, y_pred)\n",
    "\n",
    "print(f\"Mean Squared Error (MSE): {mse}\")\n",
    "print(f\"R-squared (R²) Score: {r2}\")"
   ]
  },
  {
   "cell_type": "code",
   "execution_count": 6,
   "metadata": {},
   "outputs": [
    {
     "name": "stdout",
     "output_type": "stream",
     "text": [
      "Mean Squared Error (MSE): 55.19639720690905\n",
      "R-squared (R²) Score: 0.3917153034516828\n",
      "Mean Squared Error (MSE): 303.49404698563893\n",
      "R-squared (R²) Score: -0.6250713547478892\n"
     ]
    }
   ],
   "source": [
    "X = data.iloc[1:,11:17]  # Features (inputs)\n",
    "XX = dat.iloc[1:,11:17]  # Features (inputs)\n",
    "X_train, X_test, y_train, y_test = train_test_split(X, y, test_size=0.1, random_state=42)\n",
    "model = RandomForestRegressor(n_estimators=8, random_state=42)  # You can adjust the number of estimators\n",
    "model.fit(X_train, y_train)\n",
    "y_pred = model.predict(X_test)\n",
    "mse = mean_squared_error(y_test, y_pred)\n",
    "r2 = r2_score(y_test, y_pred)\n",
    "\n",
    "print(f\"Mean Squared Error (MSE): {mse}\")\n",
    "print(f\"R-squared (R²) Score: {r2}\")\n",
    "\n",
    "y_pred = model.predict(XX)\n",
    "mse = mean_squared_error(y1, y_pred)\n",
    "r2 = r2_score(y1, y_pred)\n",
    "\n",
    "print(f\"Mean Squared Error (MSE): {mse}\")\n",
    "print(f\"R-squared (R²) Score: {r2}\")"
   ]
  },
  {
   "cell_type": "code",
   "execution_count": 7,
   "metadata": {},
   "outputs": [
    {
     "name": "stdout",
     "output_type": "stream",
     "text": [
      "Mean Squared Error (MSE): 175.79953346653528\n",
      "R-squared (R²) Score: -0.937375830294984\n",
      "Mean Squared Error (MSE): 269.81611752227747\n",
      "R-squared (R²) Score: -0.4447414965457004\n"
     ]
    }
   ],
   "source": [
    "X = data.iloc[1:, 18:38]  # Features (inputs)\n",
    "XX = dat.iloc[1:, 18:38]  # Features (inputs)\n",
    "X_train, X_test, y_train, y_test = train_test_split(X, y, test_size=0.1, random_state=42)\n",
    "model = RandomForestRegressor(n_estimators=8, random_state=42)  # You can adjust the number of estimators\n",
    "model.fit(X_train, y_train)\n",
    "y_pred = model.predict(X_test)\n",
    "mse = mean_squared_error(y_test, y_pred)\n",
    "r2 = r2_score(y_test, y_pred)\n",
    "\n",
    "print(f\"Mean Squared Error (MSE): {mse}\")\n",
    "print(f\"R-squared (R²) Score: {r2}\")\n",
    "\n",
    "y_pred = model.predict(XX)\n",
    "mse = mean_squared_error(y1, y_pred)\n",
    "r2 = r2_score(y1, y_pred)\n",
    "\n",
    "print(f\"Mean Squared Error (MSE): {mse}\")\n",
    "print(f\"R-squared (R²) Score: {r2}\")"
   ]
  },
  {
   "cell_type": "code",
   "execution_count": 16,
   "metadata": {},
   "outputs": [
    {
     "name": "stdout",
     "output_type": "stream",
     "text": [
      "Mean Squared Error (MSE): 79.85347386078465\n",
      "R-squared (R²) Score: 0.11998520603340568\n"
     ]
    }
   ],
   "source": [
    "X = data.iloc[1:, 39:53]  # Features (inputs)\n",
    "X_train, X_test, y_train, y_test = train_test_split(X, y, test_size=0.1, random_state=42)\n",
    "model = RandomForestRegressor(n_estimators=8, random_state=42)  # You can adjust the number of estimators\n",
    "model.fit(X_train, y_train)\n",
    "y_pred = model.predict(X_test)\n",
    "mse = mean_squared_error(y_test, y_pred)\n",
    "r2 = r2_score(y_test, y_pred)\n",
    "\n",
    "print(f\"Mean Squared Error (MSE): {mse}\")\n",
    "print(f\"R-squared (R²) Score: {r2}\")"
   ]
  },
  {
   "cell_type": "code",
   "execution_count": 17,
   "metadata": {},
   "outputs": [
    {
     "name": "stdout",
     "output_type": "stream",
     "text": [
      "Mean Squared Error (MSE): 57.1511311994016\n",
      "R-squared (R²) Score: 0.3701734124293612\n"
     ]
    }
   ],
   "source": [
    "X = data.iloc[1:, 54:68]  # Features (inputs)\n",
    "X_train, X_test, y_train, y_test = train_test_split(X, y, test_size=0.1, random_state=42)\n",
    "model = RandomForestRegressor(n_estimators=8, random_state=42)  # You can adjust the number of estimators\n",
    "model.fit(X_train, y_train)\n",
    "y_pred = model.predict(X_test)\n",
    "mse = mean_squared_error(y_test, y_pred)\n",
    "r2 = r2_score(y_test, y_pred)\n",
    "\n",
    "print(f\"Mean Squared Error (MSE): {mse}\")\n",
    "print(f\"R-squared (R²) Score: {r2}\")"
   ]
  },
  {
   "cell_type": "code",
   "execution_count": 18,
   "metadata": {},
   "outputs": [
    {
     "name": "stdout",
     "output_type": "stream",
     "text": [
      "Mean Squared Error (MSE): 89.8173723678416\n",
      "R-squared (R²) Score: 0.010179362056242702\n"
     ]
    }
   ],
   "source": [
    "X = data.iloc[1:, 69:81]  # Features (inputs)\n",
    "X_train, X_test, y_train, y_test = train_test_split(X, y, test_size=0.1, random_state=42)\n",
    "model = RandomForestRegressor(n_estimators=8, random_state=42)  # You can adjust the number of estimators\n",
    "model.fit(X_train, y_train)\n",
    "y_pred = model.predict(X_test)\n",
    "mse = mean_squared_error(y_test, y_pred)\n",
    "r2 = r2_score(y_test, y_pred)\n",
    "\n",
    "print(f\"Mean Squared Error (MSE): {mse}\")\n",
    "print(f\"R-squared (R²) Score: {r2}\")"
   ]
  },
  {
   "cell_type": "code",
   "execution_count": 19,
   "metadata": {},
   "outputs": [
    {
     "name": "stdout",
     "output_type": "stream",
     "text": [
      "Mean Squared Error (MSE): 228.25221453291846\n",
      "R-squared (R²) Score: -1.5154237609598646\n"
     ]
    }
   ],
   "source": [
    "X = data.iloc[1:, 82:83]  # Features (inputs)\n",
    "X_train, X_test, y_train, y_test = train_test_split(X, y, test_size=0.1, random_state=42)\n",
    "model = RandomForestRegressor(n_estimators=8, random_state=42)  # You can adjust the number of estimators\n",
    "model.fit(X_train, y_train)\n",
    "y_pred = model.predict(X_test)\n",
    "mse = mean_squared_error(y_test, y_pred)\n",
    "r2 = r2_score(y_test, y_pred)\n",
    "\n",
    "print(f\"Mean Squared Error (MSE): {mse}\")\n",
    "print(f\"R-squared (R²) Score: {r2}\")"
   ]
  },
  {
   "cell_type": "code",
   "execution_count": 20,
   "metadata": {},
   "outputs": [
    {
     "name": "stdout",
     "output_type": "stream",
     "text": [
      "Mean Squared Error (MSE): 106.2931517325172\n",
      "R-squared (R²) Score: -0.17138981561436561\n"
     ]
    }
   ],
   "source": [
    "X = data.iloc[1:, 84:87]  # Features (inputs)\n",
    "X_train, X_test, y_train, y_test = train_test_split(X, y, test_size=0.1, random_state=42)\n",
    "model = RandomForestRegressor(n_estimators=8, random_state=42)  # You can adjust the number of estimators\n",
    "model.fit(X_train, y_train)\n",
    "y_pred = model.predict(X_test)\n",
    "mse = mean_squared_error(y_test, y_pred)\n",
    "r2 = r2_score(y_test, y_pred)\n",
    "\n",
    "print(f\"Mean Squared Error (MSE): {mse}\")\n",
    "print(f\"R-squared (R²) Score: {r2}\")"
   ]
  },
  {
   "cell_type": "code",
   "execution_count": 21,
   "metadata": {},
   "outputs": [
    {
     "name": "stdout",
     "output_type": "stream",
     "text": [
      "Mean Squared Error (MSE): 115.64795164038587\n",
      "R-squared (R²) Score: -0.2744831679195381\n"
     ]
    }
   ],
   "source": [
    "X = data.iloc[1:, 87:91]  # Features (inputs)\n",
    "X_train, X_test, y_train, y_test = train_test_split(X, y, test_size=0.1, random_state=42)\n",
    "model = RandomForestRegressor(n_estimators=8, random_state=42)  # You can adjust the number of estimators\n",
    "model.fit(X_train, y_train)\n",
    "y_pred = model.predict(X_test)\n",
    "mse = mean_squared_error(y_test, y_pred)\n",
    "r2 = r2_score(y_test, y_pred)\n",
    "\n",
    "print(f\"Mean Squared Error (MSE): {mse}\")\n",
    "print(f\"R-squared (R²) Score: {r2}\")\n"
   ]
  }
 ],
 "metadata": {
  "kernelspec": {
   "display_name": "Python 3",
   "language": "python",
   "name": "python3"
  },
  "language_info": {
   "codemirror_mode": {
    "name": "ipython",
    "version": 3
   },
   "file_extension": ".py",
   "mimetype": "text/x-python",
   "name": "python",
   "nbconvert_exporter": "python",
   "pygments_lexer": "ipython3",
   "version": "3.8.3"
  }
 },
 "nbformat": 4,
 "nbformat_minor": 2
}
