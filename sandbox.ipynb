{
 "cells": [
  {
   "cell_type": "code",
   "execution_count": 1,
   "metadata": {},
   "outputs": [],
   "source": [
    "import torch\n",
    "import torch.nn as nn\n",
    "import numpy as np\n"
   ]
  },
  {
   "cell_type": "code",
   "execution_count": 13,
   "metadata": {},
   "outputs": [
    {
     "ename": "KeyError",
     "evalue": "'state_dict'",
     "output_type": "error",
     "traceback": [
      "\u001b[1;31m---------------------------------------------------------------------------\u001b[0m",
      "\u001b[1;31mKeyError\u001b[0m                                  Traceback (most recent call last)",
      "\u001b[1;32mc:\\Users\\tssan\\OneDrive\\Desktop\\EngPsych\\LRP\\sandbox.ipynb Cell 2\u001b[0m line \u001b[0;36m<module>\u001b[1;34m\u001b[0m\n\u001b[0;32m      <a href='vscode-notebook-cell:/c%3A/Users/tssan/OneDrive/Desktop/EngPsych/LRP/sandbox.ipynb#W1sZmlsZQ%3D%3D?line=0'>1</a>\u001b[0m checkpoint \u001b[39m=\u001b[39m torch\u001b[39m.\u001b[39mload(\u001b[39m'\u001b[39m\u001b[39mseed_2.pt\u001b[39m\u001b[39m'\u001b[39m, map_location\u001b[39m=\u001b[39m\u001b[39m'\u001b[39m\u001b[39mcpu\u001b[39m\u001b[39m'\u001b[39m)\n\u001b[1;32m----> <a href='vscode-notebook-cell:/c%3A/Users/tssan/OneDrive/Desktop/EngPsych/LRP/sandbox.ipynb#W1sZmlsZQ%3D%3D?line=1'>2</a>\u001b[0m model_state_dict \u001b[39m=\u001b[39m checkpoint[\u001b[39m'\u001b[39;49m\u001b[39mstate_dict\u001b[39;49m\u001b[39m'\u001b[39;49m]  \u001b[39m# Extract the model state dictionary from the checkpoint\u001b[39;00m\n\u001b[0;32m      <a href='vscode-notebook-cell:/c%3A/Users/tssan/OneDrive/Desktop/EngPsych/LRP/sandbox.ipynb#W1sZmlsZQ%3D%3D?line=2'>3</a>\u001b[0m model \u001b[39m=\u001b[39m nn\u001b[39m.\u001b[39mModule()  \u001b[39m# Create an instance of your model class\u001b[39;00m\n\u001b[0;32m      <a href='vscode-notebook-cell:/c%3A/Users/tssan/OneDrive/Desktop/EngPsych/LRP/sandbox.ipynb#W1sZmlsZQ%3D%3D?line=3'>4</a>\u001b[0m model\u001b[39m.\u001b[39mload_state_dict(model_state_dict)  \u001b[39m# Load the state dictionary into the model\u001b[39;00m\n",
      "\u001b[1;31mKeyError\u001b[0m: 'state_dict'"
     ]
    }
   ],
   "source": [
    "checkpoint = torch.load('seed_2.pt', map_location='cpu')\n",
    "model_state_dict = checkpoint['state_dict']  # Extract the model state dictionary from the checkpoint\n",
    "model = nn.Module()  # Create an instance of your model class\n",
    "model.load_state_dict(model_state_dict)  # Load the state dictionary into the model\n",
    "model.eval()\n"
   ]
  },
  {
   "cell_type": "code",
   "execution_count": 3,
   "metadata": {},
   "outputs": [
    {
     "ename": "NameError",
     "evalue": "name 'model' is not defined",
     "output_type": "error",
     "traceback": [
      "\u001b[1;31m---------------------------------------------------------------------------\u001b[0m",
      "\u001b[1;31mNameError\u001b[0m                                 Traceback (most recent call last)",
      "\u001b[1;32mc:\\Users\\tssan\\OneDrive\\Desktop\\EngPsych\\LRP\\sandbox.ipynb Cell 3\u001b[0m line \u001b[0;36m<module>\u001b[1;34m\u001b[0m\n\u001b[1;32m----> <a href='vscode-notebook-cell:/c%3A/Users/tssan/OneDrive/Desktop/EngPsych/LRP/sandbox.ipynb#W2sZmlsZQ%3D%3D?line=0'>1</a>\u001b[0m num_layers \u001b[39m=\u001b[39m \u001b[39mlen\u001b[39m(model)  \u001b[39m# If the model is an nn.Sequential container\u001b[39;00m\n\u001b[0;32m      <a href='vscode-notebook-cell:/c%3A/Users/tssan/OneDrive/Desktop/EngPsych/LRP/sandbox.ipynb#W2sZmlsZQ%3D%3D?line=1'>2</a>\u001b[0m num_layers\n",
      "\u001b[1;31mNameError\u001b[0m: name 'model' is not defined"
     ]
    }
   ],
   "source": [
    "num_layers = len(model)  # If the model is an nn.Sequential container\n",
    "num_layers"
   ]
  },
  {
   "cell_type": "code",
   "execution_count": 4,
   "metadata": {},
   "outputs": [
    {
     "ename": "NameError",
     "evalue": "name 'model' is not defined",
     "output_type": "error",
     "traceback": [
      "\u001b[1;31m---------------------------------------------------------------------------\u001b[0m",
      "\u001b[1;31mNameError\u001b[0m                                 Traceback (most recent call last)",
      "\u001b[1;32mc:\\Users\\tssan\\OneDrive\\Desktop\\EngPsych\\LRP\\sandbox.ipynb Cell 4\u001b[0m line \u001b[0;36m<module>\u001b[1;34m\u001b[0m\n\u001b[1;32m----> <a href='vscode-notebook-cell:/c%3A/Users/tssan/OneDrive/Desktop/EngPsych/LRP/sandbox.ipynb#W3sZmlsZQ%3D%3D?line=0'>1</a>\u001b[0m num_layers \u001b[39m=\u001b[39m \u001b[39mlen\u001b[39m(\u001b[39mlist\u001b[39m(model\u001b[39m.\u001b[39mchildren()))\n\u001b[0;32m      <a href='vscode-notebook-cell:/c%3A/Users/tssan/OneDrive/Desktop/EngPsych/LRP/sandbox.ipynb#W3sZmlsZQ%3D%3D?line=1'>2</a>\u001b[0m num_layers\n",
      "\u001b[1;31mNameError\u001b[0m: name 'model' is not defined"
     ]
    }
   ],
   "source": [
    "num_layers = len(list(model.children()))\n",
    "num_layers"
   ]
  },
  {
   "cell_type": "code",
   "execution_count": 14,
   "metadata": {},
   "outputs": [
    {
     "ename": "AttributeError",
     "evalue": "'collections.OrderedDict' object has no attribute 'parameters'",
     "output_type": "error",
     "traceback": [
      "\u001b[1;31m---------------------------------------------------------------------------\u001b[0m",
      "\u001b[1;31mAttributeError\u001b[0m                            Traceback (most recent call last)",
      "\u001b[1;32mc:\\Users\\tssan\\OneDrive\\Desktop\\EngPsych\\LRP\\sandbox.ipynb Cell 5\u001b[0m line \u001b[0;36m<module>\u001b[1;34m\u001b[0m\n\u001b[1;32m----> <a href='vscode-notebook-cell:/c%3A/Users/tssan/OneDrive/Desktop/EngPsych/LRP/sandbox.ipynb#W4sZmlsZQ%3D%3D?line=0'>1</a>\u001b[0m num_layers \u001b[39m=\u001b[39m \u001b[39msum\u001b[39m(\u001b[39m1\u001b[39m \u001b[39mfor\u001b[39;00m _ \u001b[39min\u001b[39;00m model\u001b[39m.\u001b[39;49mparameters())\n\u001b[0;32m      <a href='vscode-notebook-cell:/c%3A/Users/tssan/OneDrive/Desktop/EngPsych/LRP/sandbox.ipynb#W4sZmlsZQ%3D%3D?line=1'>2</a>\u001b[0m num_layers\n",
      "\u001b[1;31mAttributeError\u001b[0m: 'collections.OrderedDict' object has no attribute 'parameters'"
     ]
    }
   ],
   "source": [
    "num_layers = sum(1 for _ in model.parameters())\n",
    "num_layers"
   ]
  }
 ],
 "metadata": {
  "kernelspec": {
   "display_name": "Python 3",
   "language": "python",
   "name": "python3"
  },
  "language_info": {
   "codemirror_mode": {
    "name": "ipython",
    "version": 3
   },
   "file_extension": ".py",
   "mimetype": "text/x-python",
   "name": "python",
   "nbconvert_exporter": "python",
   "pygments_lexer": "ipython3",
   "version": "3.8.3"
  }
 },
 "nbformat": 4,
 "nbformat_minor": 2
}
